{
  "cells": [
    {
      "cell_type": "markdown",
      "metadata": {
        "colab_type": "text",
        "id": "3DR-eO17geWu"
      },
      "source": [
        "# Convolutional Neural Network"
      ]
    },
    {
      "cell_type": "markdown",
      "metadata": {
        "colab_type": "text",
        "id": "EMefrVPCg-60"
      },
      "source": [
        "### Importing the libraries"
      ]
    },
    {
      "cell_type": "code",
      "execution_count": 105,
      "metadata": {
        "colab": {},
        "colab_type": "code",
        "id": "sCV30xyVhFbE"
      },
      "outputs": [],
      "source": [
        "import tensorflow as tf\n",
        "from keras.optimizers import Adam\n",
        "from keras.preprocessing.image import ImageDataGenerator\n"
      ]
    },
    {
      "cell_type": "code",
      "execution_count": 106,
      "metadata": {
        "colab": {},
        "colab_type": "code",
        "id": "FIleuCAjoFD8"
      },
      "outputs": [
        {
          "data": {
            "text/plain": [
              "'2.9.1'"
            ]
          },
          "execution_count": 106,
          "metadata": {},
          "output_type": "execute_result"
        }
      ],
      "source": [
        "tf.__version__"
      ]
    },
    {
      "cell_type": "markdown",
      "metadata": {
        "colab_type": "text",
        "id": "oxQxCBWyoGPE"
      },
      "source": [
        "## Data Preprocessing"
      ]
    },
    {
      "cell_type": "markdown",
      "metadata": {
        "colab_type": "text",
        "id": "MvE-heJNo3GG"
      },
      "source": [
        "### Preprocessing the Training set"
      ]
    },
    {
      "cell_type": "code",
      "execution_count": 107,
      "metadata": {
        "colab": {},
        "colab_type": "code",
        "id": "0koUcJMJpEBD"
      },
      "outputs": [
        {
          "name": "stdout",
          "output_type": "stream",
          "text": [
            "Found 5712 images belonging to 4 classes.\n",
            "{'glioma': 0, 'meningioma': 1, 'notumor': 2, 'pituitary': 3}\n"
          ]
        }
      ],
      "source": [
        "train_datagen = ImageDataGenerator(rescale = 1./255,\n",
        "                                   shear_range = 0.2,\n",
        "                                   zoom_range = 0.2,\n",
        "                                   horizontal_flip = True)\n",
        "\n",
        "training_set = train_datagen.flow_from_directory('input/Training',\n",
        "                                                 target_size = (64, 64),\n",
        "                                                 batch_size = 32,\n",
        "                                                 class_mode = 'categorical')\n",
        "labels =training_set.class_indices\n",
        "print(labels)\n"
      ]
    },
    {
      "cell_type": "markdown",
      "metadata": {
        "colab_type": "text",
        "id": "mrCMmGw9pHys"
      },
      "source": [
        "### Preprocessing the Test set"
      ]
    },
    {
      "cell_type": "code",
      "execution_count": 108,
      "metadata": {
        "colab": {},
        "colab_type": "code",
        "id": "SH4WzfOhpKc3"
      },
      "outputs": [
        {
          "name": "stdout",
          "output_type": "stream",
          "text": [
            "Found 1311 images belonging to 4 classes.\n"
          ]
        }
      ],
      "source": [
        "test_datagen = ImageDataGenerator(rescale = 1./255)\n",
        "test_set = test_datagen.flow_from_directory('input/Testing',\n",
        "                                            target_size = (64, 64),\n",
        "                                            batch_size = 32,\n",
        "                                            class_mode = 'categorical')"
      ]
    },
    {
      "cell_type": "markdown",
      "metadata": {
        "colab_type": "text",
        "id": "af8O4l90gk7B"
      },
      "source": [
        "## Building the CNN"
      ]
    },
    {
      "cell_type": "markdown",
      "metadata": {
        "colab_type": "text",
        "id": "ces1gXY2lmoX"
      },
      "source": [
        "### Initialising the CNN"
      ]
    },
    {
      "cell_type": "code",
      "execution_count": 109,
      "metadata": {
        "colab": {},
        "colab_type": "code",
        "id": "SAUt4UMPlhLS"
      },
      "outputs": [],
      "source": [
        "cnn = tf.keras.models.Sequential()"
      ]
    },
    {
      "cell_type": "markdown",
      "metadata": {
        "colab_type": "text",
        "id": "u5YJj_XMl5LF"
      },
      "source": [
        "### Convolution"
      ]
    },
    {
      "cell_type": "code",
      "execution_count": 110,
      "metadata": {
        "colab": {},
        "colab_type": "code",
        "id": "XPzPrMckl-hV"
      },
      "outputs": [],
      "source": [
        "cnn.add(tf.keras.layers.Conv2D(filters=32, kernel_size=3, activation='relu', input_shape=[64, 64, 3]))"
      ]
    },
    {
      "cell_type": "markdown",
      "metadata": {
        "colab_type": "text",
        "id": "tf87FpvxmNOJ"
      },
      "source": [
        "### Pooling"
      ]
    },
    {
      "cell_type": "code",
      "execution_count": 111,
      "metadata": {
        "colab": {},
        "colab_type": "code",
        "id": "ncpqPl69mOac"
      },
      "outputs": [],
      "source": [
        "cnn.add(tf.keras.layers.MaxPool2D(pool_size=2, strides=2))"
      ]
    },
    {
      "cell_type": "markdown",
      "metadata": {
        "colab_type": "text",
        "id": "xaTOgD8rm4mU"
      },
      "source": [
        "### Adding a second convolutional layer"
      ]
    },
    {
      "cell_type": "code",
      "execution_count": 112,
      "metadata": {
        "colab": {},
        "colab_type": "code",
        "id": "i_-FZjn_m8gk"
      },
      "outputs": [],
      "source": [
        "cnn.add(tf.keras.layers.Conv2D(filters=32, kernel_size=3, activation='relu'))\n",
        "cnn.add(tf.keras.layers.MaxPool2D(pool_size=2, strides=2))"
      ]
    },
    {
      "cell_type": "markdown",
      "metadata": {
        "colab_type": "text",
        "id": "tmiEuvTunKfk"
      },
      "source": [
        "### Flattening"
      ]
    },
    {
      "cell_type": "code",
      "execution_count": 113,
      "metadata": {
        "colab": {},
        "colab_type": "code",
        "id": "6AZeOGCvnNZn"
      },
      "outputs": [],
      "source": [
        "cnn.add(tf.keras.layers.Flatten())"
      ]
    },
    {
      "cell_type": "markdown",
      "metadata": {
        "colab_type": "text",
        "id": "dAoSECOm203v"
      },
      "source": [
        "### Full Connection"
      ]
    },
    {
      "cell_type": "code",
      "execution_count": 114,
      "metadata": {
        "colab": {},
        "colab_type": "code",
        "id": "8GtmUlLd26Nq"
      },
      "outputs": [],
      "source": [
        "cnn.add(tf.keras.layers.Dense(units=128, activation='relu'))"
      ]
    },
    {
      "cell_type": "markdown",
      "metadata": {
        "colab_type": "text",
        "id": "yTldFvbX28Na"
      },
      "source": [
        "### Output Layer"
      ]
    },
    {
      "cell_type": "code",
      "execution_count": 115,
      "metadata": {
        "colab": {},
        "colab_type": "code",
        "id": "1p_Zj1Mc3Ko_"
      },
      "outputs": [],
      "source": [
        "cnn.add(tf.keras.layers.Dense(units=4, activation='softmax'))"
      ]
    },
    {
      "cell_type": "markdown",
      "metadata": {
        "colab_type": "text",
        "id": "D6XkI90snSDl"
      },
      "source": [
        "## Training the CNN"
      ]
    },
    {
      "cell_type": "markdown",
      "metadata": {
        "colab_type": "text",
        "id": "vfrFQACEnc6i"
      },
      "source": [
        "### Compiling the CNN"
      ]
    },
    {
      "cell_type": "code",
      "execution_count": 116,
      "metadata": {
        "colab": {},
        "colab_type": "code",
        "id": "NALksrNQpUlJ"
      },
      "outputs": [],
      "source": [
        "cnn.compile(optimizer = Adam(learning_rate=0.001), loss = 'categorical_crossentropy', metrics = ['accuracy'])"
      ]
    },
    {
      "cell_type": "markdown",
      "metadata": {
        "colab_type": "text",
        "id": "ehS-v3MIpX2h"
      },
      "source": [
        "### Training the CNN on the Training set and evaluating it on the Test set"
      ]
    },
    {
      "cell_type": "code",
      "execution_count": 117,
      "metadata": {
        "colab": {},
        "colab_type": "code",
        "id": "XUj1W4PJptta"
      },
      "outputs": [
        {
          "name": "stdout",
          "output_type": "stream",
          "text": [
            "Epoch 1/25\n",
            "179/179 [==============================] - 34s 182ms/step - loss: 0.8093 - accuracy: 0.6735 - val_loss: 1.0246 - val_accuracy: 0.6865\n",
            "Epoch 2/25\n",
            "179/179 [==============================] - 30s 167ms/step - loss: 0.5809 - accuracy: 0.7773 - val_loss: 0.7593 - val_accuracy: 0.7414\n",
            "Epoch 3/25\n",
            "179/179 [==============================] - 33s 184ms/step - loss: 0.4971 - accuracy: 0.8081 - val_loss: 1.0898 - val_accuracy: 0.6522\n",
            "Epoch 4/25\n",
            "179/179 [==============================] - 28s 158ms/step - loss: 0.4329 - accuracy: 0.8360 - val_loss: 0.5248 - val_accuracy: 0.8024\n",
            "Epoch 5/25\n",
            "179/179 [==============================] - 27s 149ms/step - loss: 0.3769 - accuracy: 0.8545 - val_loss: 0.4658 - val_accuracy: 0.8322\n",
            "Epoch 6/25\n",
            "179/179 [==============================] - 26s 143ms/step - loss: 0.3330 - accuracy: 0.8768 - val_loss: 0.5216 - val_accuracy: 0.8185\n",
            "Epoch 7/25\n",
            "179/179 [==============================] - 25s 137ms/step - loss: 0.3047 - accuracy: 0.8846 - val_loss: 0.5232 - val_accuracy: 0.8146\n",
            "Epoch 8/25\n",
            "179/179 [==============================] - 26s 142ms/step - loss: 0.2698 - accuracy: 0.8957 - val_loss: 0.3951 - val_accuracy: 0.8452\n",
            "Epoch 9/25\n",
            "179/179 [==============================] - 26s 147ms/step - loss: 0.2501 - accuracy: 0.9062 - val_loss: 0.2419 - val_accuracy: 0.9069\n",
            "Epoch 10/25\n",
            "179/179 [==============================] - 29s 160ms/step - loss: 0.2206 - accuracy: 0.9209 - val_loss: 0.4720 - val_accuracy: 0.8490\n",
            "Epoch 11/25\n",
            "179/179 [==============================] - 31s 173ms/step - loss: 0.1968 - accuracy: 0.9280 - val_loss: 0.2813 - val_accuracy: 0.8871\n",
            "Epoch 12/25\n",
            "179/179 [==============================] - 32s 176ms/step - loss: 0.1861 - accuracy: 0.9307 - val_loss: 0.3025 - val_accuracy: 0.8902\n",
            "Epoch 13/25\n",
            "179/179 [==============================] - 26s 144ms/step - loss: 0.1691 - accuracy: 0.9394 - val_loss: 0.2011 - val_accuracy: 0.9230\n",
            "Epoch 14/25\n",
            "179/179 [==============================] - 31s 174ms/step - loss: 0.1576 - accuracy: 0.9438 - val_loss: 0.3887 - val_accuracy: 0.8673\n",
            "Epoch 15/25\n",
            "179/179 [==============================] - 27s 152ms/step - loss: 0.1376 - accuracy: 0.9526 - val_loss: 0.3398 - val_accuracy: 0.8719\n",
            "Epoch 16/25\n",
            "179/179 [==============================] - 28s 154ms/step - loss: 0.1323 - accuracy: 0.9499 - val_loss: 0.1915 - val_accuracy: 0.9306\n",
            "Epoch 17/25\n",
            "179/179 [==============================] - 26s 143ms/step - loss: 0.1148 - accuracy: 0.9583 - val_loss: 0.1851 - val_accuracy: 0.9359\n",
            "Epoch 18/25\n",
            "179/179 [==============================] - 25s 139ms/step - loss: 0.1062 - accuracy: 0.9638 - val_loss: 0.1750 - val_accuracy: 0.9336\n",
            "Epoch 19/25\n",
            "179/179 [==============================] - 26s 143ms/step - loss: 0.1070 - accuracy: 0.9611 - val_loss: 0.2258 - val_accuracy: 0.9237\n",
            "Epoch 20/25\n",
            "179/179 [==============================] - 26s 146ms/step - loss: 0.0957 - accuracy: 0.9646 - val_loss: 0.1830 - val_accuracy: 0.9420\n",
            "Epoch 21/25\n",
            "179/179 [==============================] - 30s 167ms/step - loss: 0.0965 - accuracy: 0.9659 - val_loss: 0.2083 - val_accuracy: 0.9336\n",
            "Epoch 22/25\n",
            "179/179 [==============================] - 27s 154ms/step - loss: 0.0832 - accuracy: 0.9694 - val_loss: 0.1435 - val_accuracy: 0.9542\n",
            "Epoch 23/25\n",
            "179/179 [==============================] - 26s 146ms/step - loss: 0.0689 - accuracy: 0.9767 - val_loss: 0.1221 - val_accuracy: 0.9634\n",
            "Epoch 24/25\n",
            "179/179 [==============================] - 25s 138ms/step - loss: 0.0796 - accuracy: 0.9718 - val_loss: 0.2363 - val_accuracy: 0.9291\n",
            "Epoch 25/25\n",
            "179/179 [==============================] - 26s 142ms/step - loss: 0.0737 - accuracy: 0.9744 - val_loss: 0.2368 - val_accuracy: 0.9184\n"
          ]
        },
        {
          "data": {
            "text/plain": [
              "<keras.callbacks.History at 0x2122781e580>"
            ]
          },
          "execution_count": 117,
          "metadata": {},
          "output_type": "execute_result"
        }
      ],
      "source": [
        "cnn.fit(x = training_set, validation_data = test_set, epochs = 25)"
      ]
    },
    {
      "cell_type": "markdown",
      "metadata": {
        "colab_type": "text",
        "id": "U3PZasO0006Z"
      },
      "source": [
        "## Making a single prediction"
      ]
    },
    {
      "cell_type": "code",
      "execution_count": 118,
      "metadata": {},
      "outputs": [
        {
          "name": "stdout",
          "output_type": "stream",
          "text": [
            "1/1 [==============================] - 0s 105ms/step\n",
            "[[0. 0. 1. 0.]]\n",
            "{'glioma': 0, 'meningioma': 1, 'notumor': 2, 'pituitary': 3}\n",
            "['notumor']\n"
          ]
        }
      ],
      "source": [
        "import numpy as np\n",
        "from keras import utils\n",
        "test_image = utils.load_img('input/Testing/notumor/Te-no_0018.jpg', target_size = (64, 64))\n",
        "test_image = utils.img_to_array(test_image)\n",
        "test_image = np.expand_dims(test_image, axis = 0) # Convert single image to a batch.\n",
        "predicted_indice_arr = cnn.predict(test_image)\n",
        "print(predicted_indice_arr)\n",
        "prediction = np.argmax(predicted_indice_arr, axis=1)\n",
        "\n",
        "print(labels)\n",
        "final_prediction = [key for key, val in labels.items() if val == prediction[0]]\n",
        "print(final_prediction)\n"
      ]
    }
  ],
  "metadata": {
    "colab": {
      "collapsed_sections": [],
      "name": "convolutional_neural_network.ipynb",
      "provenance": [],
      "toc_visible": true
    },
    "kernelspec": {
      "display_name": "Python 3",
      "name": "python3"
    },
    "language_info": {
      "codemirror_mode": {
        "name": "ipython",
        "version": 3
      },
      "file_extension": ".py",
      "mimetype": "text/x-python",
      "name": "python",
      "nbconvert_exporter": "python",
      "pygments_lexer": "ipython3",
      "version": "3.8.7rc1"
    }
  },
  "nbformat": 4,
  "nbformat_minor": 0
}
